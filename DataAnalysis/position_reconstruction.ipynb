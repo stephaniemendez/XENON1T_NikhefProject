{
 "cells": [
  {
   "cell_type": "markdown",
   "metadata": {},
   "source": [
    "# Simple Postion Reconstruction\n",
    "(author: B.Paetsch, date: 17.06.2020)\n",
    "\n",
    "new: position function, exception handling in Waveform function\n",
    "\n",
    "idea position reconstruction: The z-position is calculated with the product of the drift velocity (1.73 mm/microsec) and the time difference between the S1 and S2 signal (drift time). We only look at events that first of all have a valid pulse found by the Peaks-function (Joey). Then we create a s1s2-list with all pulses divided into S1 and S2 pulses (right now we only have a width criterion (smaller then 80 ns for S1)). Only events where we have both a S1 and a S2 peak are added to our s1s2-list. The position-function then calls the Waveform-reader (Joey), which creates a list of the channels that contributed most to the signals in one event and additionally determines the channel with the largest contribution (minchannel: lowest adc value). For the x- and y-position, the position of the PMT in minchannel (largest peak) is taken (regardless whether it is a top or bottom PMT and whether the largest peak was a S1 or S2 peak. (maybe we want to specify that -> additional criteria???)).\n",
    "\n",
    "exception handling: For those events which have a waveform size larger than 350000 ns (large scintillation signal ), an exception handling is added to the Waveform-function, which skipps these kind of events and counts them (counter isn't working properly yet, sorry). One example of those events is event number 23 in NG."
   ]
  },
  {
   "cell_type": "code",
   "execution_count": 92,
   "metadata": {},
   "outputs": [],
   "source": [
    "\"\"\"same as before\"\"\"\n",
    "\n",
    "import Zip\n",
    "import numpy as np\n",
    "import matplotlib as mpl\n",
    "import matplotlib.pyplot as plt\n",
    "import matplotlib.patches as patches\n",
    "import time\n",
    "import math\n",
    "\n",
    "\n",
    "# Channels in the detector\n",
    "det_ch = { 'tpc': list(range(0, 247+1)), 'veto': list(range(248, 253+1)), \n",
    "          'sum_wv': [254], 'busy_on': [255], 'busy_off': [256],\n",
    "          'hev_on': [257], 'hev_off': [258], 'muon_veto_trigger': [259], } \n",
    "n_channels = 260\n",
    "\n",
    "# Initial parameters\n",
    "baseline_ = 16384. * np.ones(n_channels)\n",
    "std_ = 2.3 * np.ones(n_channels)\n",
    "\n",
    "# The data files\n",
    "NG = Zip.ReadZipped(\"/data/nikhefproject/data/xenon1t/NG\") # Neutron data\n",
    "Rn220 = Zip.ReadZipped(\"/data/nikhefproject/data/xenon1t/Rn220\") # Rn-220 data"
   ]
  },
  {
   "cell_type": "code",
   "execution_count": 184,
   "metadata": {},
   "outputs": [],
   "source": [
    "\"\"\"I added the exception handling\"\"\"\n",
    "\n",
    "# A waveform reader function\n",
    "def Waveform(raw,eventnr,counter):\n",
    "    event = raw.get_single_event(eventnr)\n",
    "                                \n",
    "    #The variables that check if a channel is the minimum channel\n",
    "    adcmin = 16382\n",
    "    minchannel = 0\n",
    "    \n",
    "    #A list that holds all the channels with significant pulses \n",
    "    channellist = []\n",
    "    \n",
    "    #Create the datapoint arrays\n",
    "    n = 350000  \n",
    "    ts = np.ones((n_channels, n), dtype=np.int16)\n",
    "    ts = ts * 16382 \n",
    "    t = np.linspace(0, n, n) \n",
    "    \n",
    "    #Loop over all pulses in the event\n",
    "    for p in event.pulses:\n",
    "        ch = p.channel\n",
    "        i = np.zeros(n_channels, dtype = int)\n",
    "        #print(p.channel, \": \", p.left, p.right-p.left)\n",
    "        for adc in p.raw_data:\n",
    "            try:\n",
    "                c = 0\n",
    "            #Add the ADC value to the appropriate channel array\n",
    "                ts[ch][p.left + i[ch]] = adc\n",
    "                i[ch] = i[ch] + 1\n",
    "            except IndexError:\n",
    "                if c == 0:\n",
    "                    counter += 1\n",
    "                pass\n",
    "            #Append all significant main channels to the list\n",
    "            if adc < 15000 and ch not in channellist and ch in det_ch['tpc']:\n",
    "                channellist.append(ch)\n",
    "                \n",
    "            #Check which channel is the minimum channel\n",
    "            if adc < adcmin:\n",
    "                adcmin = adc\n",
    "                minchannel = ch\n",
    "                \n",
    "    #Sort for convenience\n",
    "    channellist.sort()\n",
    "    return t, ts, channellist, minchannel, counter"
   ]
  },
  {
   "cell_type": "code",
   "execution_count": 124,
   "metadata": {},
   "outputs": [],
   "source": [
    "\"\"\"same as before\"\"\"\n",
    "\n",
    "def Peaks(pulse):\n",
    "    \n",
    "    # The standard variables\n",
    "    q = 0\n",
    "    left_t, right_t = 0, 0\n",
    "    baseline = 16382.\n",
    "    std = 2.3\n",
    "    ch = pulse.channel\n",
    "    wave = pulse.raw_data\n",
    "    \n",
    "    # The index for the minimum\n",
    "    minindex = pulse.right\n",
    "    \n",
    "    # Variables for the averages\n",
    "    ratio = 1\n",
    "    avfound = 0\n",
    "    samplelist = []\n",
    "\n",
    "    s = np.std(wave)\n",
    "    delta = baseline - np.min(wave)\n",
    "    if min(s, delta) > 5*std:\n",
    "        for samples in enumerate(wave):\n",
    "            base_sub = samples[1] - baseline\n",
    "            if abs(base_sub) > 5*std:\n",
    "                q = q + base_sub\n",
    "             \n",
    "            # Compute the average of the previous samples\n",
    "            av = np.average(samplelist)\n",
    "            \n",
    "            # left_t is assigned when a significant deviation from the average is recorded\n",
    "            if abs(samples[1] - av) > 20 and left_t == 0:\n",
    "                left_t = samples[0]\n",
    "                avfound = av\n",
    "             \n",
    "            # Find the index for the minimum\n",
    "            if samples[1] == np.min(wave):\n",
    "                minindex = samples[0]\n",
    "\n",
    "            # right_t is assigned in a similar way as left_t\n",
    "            if abs(samples[1] - avfound) < 20 and samples[0] > minindex and right_t == 0: \n",
    "                right_t = samples[0]\n",
    "                \n",
    "            # Add the current sample to the sample list\n",
    "            samplelist.append(samples[1])\n",
    "        ratio = np.min(wave)/int(avfound)\n",
    "    else:\n",
    "        baseline = np.average(wave)\n",
    "        std = s\n",
    "    width = right_t - left_t \n",
    "    if width != 0 and -q/width < 3*std or ratio >= 0.99:\n",
    "        q = 0\n",
    "    return (ch, q, width, pulse.left+left_t, ratio)"
   ]
  },
  {
   "cell_type": "code",
   "execution_count": 226,
   "metadata": {},
   "outputs": [],
   "source": [
    "\"\"\"same as in XAMS, only with <80ns as width criterion \n",
    "(80ns: I found that number when plotting the widths for all pulses in Peaks-list)\"\"\"\n",
    "\n",
    "def S1S2classification(raw):\n",
    "    event_sum_list = []\n",
    "    for event in raw.get_events():\n",
    "        s1 = 0\n",
    "        s2 = 0\n",
    "        s1t0 = 0\n",
    "        s2t0 = 0\n",
    "        for p in event.pulses:\n",
    "            if p.channel == 254:\n",
    "                (ch, q, width, t0, ratio) = Peaks(p)\n",
    "                if q < 0:\n",
    "                    if width < 80: # Separate S1 from S2\n",
    "                        if s1 == 0:\n",
    "                            s1 = -q # we implicity ignore any 2nd S1\n",
    "                            s1t0 = t0   \n",
    "                    else:\n",
    "                        if s2 == 0:\n",
    "                            s2t0 = t0 #only save time first s2\n",
    "                        s2 = s2 - q # Sum all the S2\n",
    "                    \n",
    "        if (s1 and s2): #only events we both a S1 and a S2 peak\n",
    "            event_sum = { 'eventnumber': event.event_number, 's1': s1, 's2': s2, \n",
    "                     's1t0': s1t0, 's2t0': s2t0 }\n",
    "            event_sum_list.append(event_sum)\n",
    "        if event.event_number == 10000:\n",
    "            break\n",
    "    return event_sum_list    "
   ]
  },
  {
   "cell_type": "code",
   "execution_count": 126,
   "metadata": {},
   "outputs": [
    {
     "name": "stderr",
     "output_type": "stream",
     "text": [
      "/usr/lib/python3/dist-packages/numpy/lib/function_base.py:1110: RuntimeWarning: Mean of empty slice.\n",
      "  avg = a.mean(axis)\n",
      "/usr/lib/python3/dist-packages/numpy/core/_methods.py:80: RuntimeWarning: invalid value encountered in double_scalars\n",
      "  ret = ret.dtype.type(ret / rcount)\n"
     ]
    },
    {
     "name": "stdout",
     "output_type": "stream",
     "text": [
      "{'eventnumber': 0, 's1': [110469.0], 's2': [1311152.0], 's1t0': [100055], 's2t0': [171748]}\n",
      "0\n",
      "11\n"
     ]
    }
   ],
   "source": [
    "#have a look at the S1S2classification\n",
    "S1S2list = S1S2classification(NG)\n",
    "print(S1S2list[0])\n",
    "print(S1S2list[0]['eventnumber'])\n",
    "print(len(S1S2list))"
   ]
  },
  {
   "cell_type": "code",
   "execution_count": 234,
   "metadata": {},
   "outputs": [],
   "source": [
    "#you need the Waveform-, Peaks- and S1S2classification-function for running the position-function\n",
    "def position(raw,s1s2,counter):\n",
    "    \"\"\" Finding the x,y and z position for an event, and storing the coordinates in a list.\n",
    "    Only channel 254 is used.\"\"\"\n",
    "    \n",
    "    from configparser import ConfigParser, ExtendedInterpolation\n",
    "    config = ConfigParser(inline_comment_prefixes='#', interpolation=ExtendedInterpolation(), strict=True)\n",
    "    config.optionsxform = str\n",
    "    config.read('xenon1t.ini')\n",
    "    \n",
    "    position_list = []\n",
    "    z = 0\n",
    "    drift_velocity = 1.73 # mm/us, see Erik p.89\n",
    "    \n",
    "    for event in s1s2_list:\n",
    "    #z-coordinate\n",
    "        #try:\n",
    "        drift = 2e-3*(event['s2t0']-event['s1t0']) #why 2e-3??\n",
    "        z = drift * drift_velocity #[mm]\n",
    "        #except IndexError:\n",
    "        #    pass\n",
    "    \n",
    "    #x-,y-coordinate (we take the position of the minchannel PMT)\n",
    "        (t, ts, channellist, minchannel, counter) = Waveform(raw,event['eventnumber'],counter)\n",
    "        pmt = eval(config['DEFAULT']['pmts'])\n",
    "        x = pmt[minchannel]['position']['x']\n",
    "        y = pmt[minchannel]['position']['y']\n",
    "        \n",
    "        entry = { 'eventnumber': event['eventnumber'], 'x': x, 'y': y, \n",
    "                     'z': z }\n",
    "        position_list.append(entry)\n",
    "        a = len(s1s2_list)/10\n",
    "        if event['eventnumber']%a==0:\n",
    "            print(event['eventnumber']/a)\n",
    "        \n",
    "    return position_list, counter #counter: how many events we skipped in Waveform-fct. due to a size>350000 "
   ]
  },
  {
   "cell_type": "code",
   "execution_count": 229,
   "metadata": {},
   "outputs": [
    {
     "name": "stderr",
     "output_type": "stream",
     "text": [
      "/usr/lib/python3/dist-packages/numpy/lib/function_base.py:1110: RuntimeWarning: Mean of empty slice.\n",
      "  avg = a.mean(axis)\n",
      "/usr/lib/python3/dist-packages/numpy/core/_methods.py:80: RuntimeWarning: invalid value encountered in double_scalars\n",
      "  ret = ret.dtype.type(ret / rcount)\n"
     ]
    },
    {
     "name": "stdout",
     "output_type": "stream",
     "text": [
      "execution runtime:  3197.6487715244293\n"
     ]
    }
   ],
   "source": [
    "#create a list with all s1 and s2 event (equals the event_sum_list in Xams_signals.ipynb)\n",
    "\"\"\"change the number of events you want to look at in S1S2classification\n",
    " (10000 events = 53 min runtime for S1S2clas and = min runtime for position on top) \"\"\"\n",
    "\n",
    "import time\n",
    "start_time = time.time()\n",
    "raw = NG\n",
    "\n",
    "s1s2_list = S1S2classification(raw)\n",
    "\n",
    "print(\"execution runtime: \", time.time()-start_time) #seconds"
   ]
  },
  {
   "cell_type": "code",
   "execution_count": null,
   "metadata": {},
   "outputs": [
    {
     "name": "stdout",
     "output_type": "stream",
     "text": [
      "0.0\n"
     ]
    }
   ],
   "source": [
    "#create the position_list\n",
    "start_time = time.time()\n",
    "\n",
    "position_list, counter = position(raw,s1s2_list,0)\n",
    "\n",
    "print(\"execution runtime: \", time.time()-start_time) #seconds"
   ]
  },
  {
   "cell_type": "code",
   "execution_count": 215,
   "metadata": {},
   "outputs": [
    {
     "name": "stdout",
     "output_type": "stream",
     "text": [
      "185342\n",
      "63\n",
      "{'eventnumber': 0, 'x': 25.305737393552118, 'y': 32.979079049733606, 'z': 248.05777999999998}\n"
     ]
    }
   ],
   "source": [
    "print(counter)\n",
    "\"\"\"counter isn't working properly yet (it indicates the length of the waveform part that didn't fit)\n",
    " should indicate the number of events that were skipped...\n",
    " NG: event 23 has a length of 350000 + 185342 = 535342 \"\"\"\n",
    "\n",
    "print(len(position_list))\n",
    "print(position_list[0])"
   ]
  },
  {
   "cell_type": "code",
   "execution_count": 216,
   "metadata": {},
   "outputs": [
    {
     "name": "stdout",
     "output_type": "stream",
     "text": [
      "25.305737393552118\n"
     ]
    }
   ],
   "source": [
    "print(position_list[0]['x'])"
   ]
  },
  {
   "cell_type": "code",
   "execution_count": 221,
   "metadata": {},
   "outputs": [
    {
     "data": {
      "text/plain": [
       "Text(0.5,0,'drift[ns]')"
      ]
     },
     "execution_count": 221,
     "metadata": {},
     "output_type": "execute_result"
    },
    {
     "data": {
      "image/png": "[encoded data removed]",
      "text/plain": [
       "<matplotlib.figure.Figure at 0x7f0ffb05b0b8>"
      ]
     },
     "metadata": {},
     "output_type": "display_data"
    }
   ],
   "source": [
    "#plotting the drift time\n",
    "s1 = []\n",
    "s2 = []\n",
    "drift = []\n",
    "for event in s1s2_list:\n",
    "    drift.append(2*(event['s2t0']-event['s1t0'])) #why 2 times?\n",
    "    s1.append(event['s1'])\n",
    "    s2.append(event['s2'])\n",
    "fig, ax = plt.subplots()\n",
    "ax.hist2d(drift,s2, bins=(100,100), norm=mpl.colors.LogNorm())\n",
    "ax.set_xlabel(\"drift[ns]\")\n",
    "#fname = 'drifttimeFirst10000Peaks.png'\n",
    "#fig.savefig(fname, dpi = (200))"
   ]
  },
  {
   "cell_type": "code",
   "execution_count": 225,
   "metadata": {},
   "outputs": [
    {
     "data": {
      "text/plain": [
       "Text(0,0.5,'S2')"
      ]
     },
     "execution_count": 225,
     "metadata": {},
     "output_type": "execute_result"
    },
    {
     "data": {
      "image/png": "[encoded data removed]",
      "text/plain": [
       "<matplotlib.figure.Figure at 0x7f0ffa8cc588>"
      ]
     },
     "metadata": {},
     "output_type": "display_data"
    }
   ],
   "source": [
    "#plotting the x-, y- and z-coordinate\n",
    "x = []\n",
    "y = []\n",
    "z = []\n",
    "for position in position_list:\n",
    "    #print(position)\n",
    "    x.append(position['x'])\n",
    "    y.append(position['y'])\n",
    "    z.append(position['z'])\n",
    "    #print(position['eventnumber'])\n",
    "    #listindex = s1s2_list.index(position['eventnumber'])\n",
    "    #s2.append(s1s2_list[position.index()]['s2'])\n",
    "        \n",
    "fig, ax = plt.subplots(3, 1, sharex='col')\n",
    "ax[0].hist2d(x,s2, bins=(100,100), norm=mpl.colors.LogNorm())\n",
    "ax[1].hist2d(y,s2, bins=(100,100), norm=mpl.colors.LogNorm())\n",
    "ax[2].hist2d(z,s2, bins=(100,100), norm=mpl.colors.LogNorm())\n",
    "ax[0].set_xlabel(\"x[mm]\")\n",
    "ax[1].set_xlabel(\"y[mm]\")\n",
    "ax[2].set_xlabel(\"z[mm]\")\n",
    "ax[0].set_ylabel(\"S2\")\n",
    "ax[1].set_ylabel(\"S2\")\n",
    "ax[2].set_ylabel(\"S2\")"
   ]
  },
  {
   "cell_type": "markdown",
   "metadata": {},
   "source": [
    "# Outlook\n",
    "\n",
    "-now we use the signal of channel 254 (top+bottom) for the S1 and S2 signals for the z-coordinate \n",
    "\n",
    "-in arXiv:1712.05696 they only use the S2 signal for the x- and y-coordinate (minchannel looks at minimal adc value in general). Shall we also use only S2 signals when looking for minchannel???? ......\n",
    "\n",
    "-S1S2classification: only width criterion so far and at least one S1 and one S2 signal in event. More criteria??.... \n"
   ]
  }
 ],
 "metadata": {
  "kernelspec": {
   "display_name": "Python 3",
   "language": "python",
   "name": "python3"
  },
  "language_info": {
   "codemirror_mode": {
    "name": "ipython",
    "version": 3
   },
   "file_extension": ".py",
   "mimetype": "text/x-python",
   "name": "python",
   "nbconvert_exporter": "python",
   "pygments_lexer": "ipython3",
   "version": "3.6.9"
  }
 },
 "nbformat": 4,
 "nbformat_minor": 2
}
