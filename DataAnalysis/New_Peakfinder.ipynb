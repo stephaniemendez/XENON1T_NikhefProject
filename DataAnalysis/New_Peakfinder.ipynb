{
 "cells": [
  {
   "cell_type": "code",
   "execution_count": 1,
   "metadata": {},
   "outputs": [],
   "source": [
    "import Zip\n",
    "import numpy as np\n",
    "import matplotlib as mpl\n",
    "import matplotlib.pyplot as plt\n",
    "import matplotlib.patches as patches\n",
    "import time\n",
    "import math\n",
    "\n",
    "# Channels in the detector\n",
    "det_ch = { 'tpc': list(range(0, 247+1)), 'veto': list(range(248, 253+1)), \n",
    "          'sum_wv': [254], 'busy_on': [255], 'busy_off': [256],\n",
    "          'hev_on': [257], 'hev_off': [258], 'muon_veto_trigger': [259], } \n",
    "n_channels = 260\n",
    "\n",
    "# The data files\n",
    "NG = Zip.ReadZipped(\"/data/nikhefproject/data/xenon1t/NG\") # Neutron data\n",
    "Rn220 = Zip.ReadZipped(\"/data/nikhefproject/data/xenon1t/Rn220\") # Rn-220 data"
   ]
  },
  {
   "cell_type": "code",
   "execution_count": 2,
   "metadata": {},
   "outputs": [],
   "source": [
    "def Peaks(pulse):\n",
    "    \n",
    "    # The standard variables\n",
    "    q = 0\n",
    "    left_t, right_t = 0, 0\n",
    "    baseline = 16382.\n",
    "    std = 2.3\n",
    "    ch = pulse.channel\n",
    "    wave = pulse.raw_data\n",
    "    \n",
    "    # The index for the minimum\n",
    "    minindex = pulse.right\n",
    "    \n",
    "    # Variables for the averages\n",
    "    ratio = 1\n",
    "    avfound = 0\n",
    "    samplelist = []\n",
    "\n",
    "    s = np.std(wave)\n",
    "    delta = baseline - np.min(wave)\n",
    "    if min(s, delta) > 5*std:\n",
    "        for samples in enumerate(wave):\n",
    "            base_sub = samples[1] - baseline\n",
    "            if abs(base_sub) > 5*std:\n",
    "                q = q + base_sub\n",
    "             \n",
    "            # Compute the average of the previous samples\n",
    "            av = np.average(samplelist)\n",
    "            \n",
    "            # left_t is assigned when a significant deviation from the average is recorded\n",
    "            if abs(samples[1] - av) > 20 and left_t == 0:\n",
    "                left_t = samples[0]\n",
    "                avfound = av\n",
    "             \n",
    "            # Find the index for the minimum\n",
    "            if samples[1] == np.min(wave):\n",
    "                minindex = samples[0]\n",
    "\n",
    "            # right_t is assigned in a similar way as left_t\n",
    "            if abs(samples[1] - avfound) < 20 and samples[0] > minindex and right_t == 0: \n",
    "                right_t = samples[0]\n",
    "                \n",
    "            # Add the current sample to the sample list\n",
    "            samplelist.append(samples[1])\n",
    "        ratio = np.min(wave)/int(avfound)\n",
    "    else:\n",
    "        baseline = np.average(wave)\n",
    "        std = s\n",
    "    width = right_t - left_t \n",
    "    if width != 0 and -q/width < 3*std or ratio >= 0.99:\n",
    "        q = 0\n",
    "    return (ch, q, width, pulse.left+left_t, ratio)"
   ]
  },
  {
   "cell_type": "code",
   "execution_count": 3,
   "metadata": {},
   "outputs": [],
   "source": [
    "# A waveform reader function\n",
    "def Waveform(eventnr):\n",
    "    event = NG.get_single_event(eventnr)\n",
    "                                \n",
    "    #The variables that check if a channel is the minimum channel\n",
    "    adcmin = 16382\n",
    "    minchannel = 0\n",
    "    \n",
    "    #A list that holds all the channels with significant pulses \n",
    "    channellist = []\n",
    "    \n",
    "    #Create the datapoint arrays\n",
    "    n = 350000  \n",
    "    ts = np.ones((n_channels, n), dtype=np.int16)\n",
    "    ts = ts * 16382 \n",
    "    t = np.linspace(0, n, n) \n",
    "    \n",
    "    #Loop over all pulses in the event\n",
    "    for p in event.pulses:\n",
    "        ch = p.channel\n",
    "        i = np.zeros(n_channels, dtype = int)\n",
    "        #print(p.channel, \": \", p.left, p.right-p.left)\n",
    "        for adc in p.raw_data:\n",
    "            \n",
    "            #Add the ADC value to the appropriate channel array\n",
    "            ts[ch][p.left + i[ch]] = adc\n",
    "            i[ch] = i[ch] + 1\n",
    "            \n",
    "            #Append all significant main channels to the list\n",
    "            if adc < 15000 and ch not in channellist and ch in det_ch['tpc']:\n",
    "                channellist.append(ch)\n",
    "                \n",
    "            #Check which channel is the minimum channel\n",
    "            if adc < adcmin:\n",
    "                adcmin = adc\n",
    "                minchannel = ch\n",
    "                \n",
    "    #Sort for convenience\n",
    "    channellist.sort()\n",
    "    return t, ts, channellist, minchannel"
   ]
  },
  {
   "cell_type": "code",
   "execution_count": 4,
   "metadata": {},
   "outputs": [
    {
     "name": "stderr",
     "output_type": "stream",
     "text": [
      "/usr/lib/python3/dist-packages/numpy/lib/function_base.py:1110: RuntimeWarning: Mean of empty slice.\n",
      "  avg = a.mean(axis)\n",
      "/usr/lib/python3/dist-packages/numpy/core/_methods.py:80: RuntimeWarning: invalid value encountered in double_scalars\n",
      "  ret = ret.dtype.type(ret / rcount)\n"
     ]
    },
    {
     "name": "stdout",
     "output_type": "stream",
     "text": [
      "254 :  -73207.0 36 100056 |  0.8683125\n",
      "254 :  -321981.0 194 100570 |  0.7826875\n",
      "254 :  -489031.0 240 102722 |  0.735238929197\n",
      "254 :  -1826195.0 402 103550 |  0.0576718583849\n"
     ]
    },
    {
     "data": {
      "image/png": "[encoded data removed]",
      "text/plain": [
       "<matplotlib.figure.Figure at 0x7f291fd38048>"
      ]
     },
     "metadata": {},
     "output_type": "display_data"
    }
   ],
   "source": [
    "%matplotlib inline\n",
    "event = NG.get_single_event(250)\n",
    "\n",
    "t, ts, channellist, minchannel = Waveform(event.event_number)\n",
    "\n",
    "figs, ax = plt.subplots(figsize = (10.,5.))\n",
    "ax.plot(t, ts[254], label='Channel 254')\n",
    "ax.set_ylabel(\"ADC\")\n",
    "ax.set_xlabel(\"time [sample]\")\n",
    "ax.set_title('Event ' + str(event.event_number))\n",
    "ax.legend()\n",
    "\n",
    "peakchecker = 0\n",
    "for p in event.pulses:\n",
    "    if p.channel == 254:\n",
    "        (ch, q, width, t0, ratio) = Peaks(p)\n",
    "        if q < 0:\n",
    "            peakchecker += 1\n",
    "            print(ch, \": \", q, width, t0, \"| \", ratio)\n",
    "            ax.add_patch(patches.Rectangle((t0, 0), width, 20000, color='grey', alpha=0.2))\n",
    "            \n",
    "            # Select the peak that you want to investigate\n",
    "            if peakchecker == 1:\n",
    "                ax.set_xlim(p.left - 50, p.right + 50)"
   ]
  },
  {
   "cell_type": "code",
   "execution_count": null,
   "metadata": {},
   "outputs": [],
   "source": []
  }
 ],
 "metadata": {
  "kernelspec": {
   "display_name": "Python 3",
   "language": "python",
   "name": "python3"
  },
  "language_info": {
   "codemirror_mode": {
    "name": "ipython",
    "version": 3
   },
   "file_extension": ".py",
   "mimetype": "text/x-python",
   "name": "python",
   "nbconvert_exporter": "python",
   "pygments_lexer": "ipython3",
   "version": "3.6.9"
  }
 },
 "nbformat": 4,
 "nbformat_minor": 2
}
