{
 "cells": [
  {
   "cell_type": "code",
   "execution_count": 2,
   "metadata": {},
   "outputs": [],
   "source": [
    "import Zip\n",
    "import numpy as np\n",
    "import matplotlib\n",
    "import matplotlib.pyplot as plt\n",
    "import time\n",
    "\n",
    "#The list of channels in the detector\n",
    "channels_in_detector = { 'tpc': list(range(0, 247+1)), 'veto': list(range(248, 253+1)), 'sum_wv': [254], 'busy_on': [255], 'busy_off': [256], 'hev_on': [257], 'hev_off': [258], 'muon_veto_trigger': [259], } \n",
    "n_channels = 260"
   ]
  },
  {
   "cell_type": "code",
   "execution_count": 3,
   "metadata": {},
   "outputs": [],
   "source": [
    "#The calibration data files\n",
    "NG = Zip.ReadZipped(\"/data/nikhefproject/data/xenon1t/NG\") # Neutron data\n",
    "Rn220 = Zip.ReadZipped(\"/data/nikhefproject/data/xenon1t/Rn220\") # Rn-220 data"
   ]
  },
  {
   "cell_type": "code",
   "execution_count": 4,
   "metadata": {},
   "outputs": [
    {
     "name": "stdout",
     "output_type": "stream",
     "text": [
      "[0, 3, 4, 5, 6, 7, 8, 9, 10, 11, 13, 14, 15, 16, 17, 18, 19, 20, 21, 22, 23, 24, 25, 28, 29, 30, 31, 32, 33, 35, 36, 37, 38, 39, 40, 41, 42, 43, 44, 45, 46, 47, 48, 49, 50, 51, 52, 53, 54, 55, 56, 57, 58, 59, 60, 61, 63, 64, 66, 67, 68, 69, 70, 71, 72, 74, 75, 76, 77, 78, 80, 81, 82, 83, 84, 85, 87, 89, 90, 91, 92, 93, 94, 95, 96, 97, 98, 99, 100, 101, 103, 104, 105, 106, 107, 108, 109, 110, 111, 112, 113, 115, 116, 117, 119, 120, 121, 123, 124, 125, 126, 127, 128, 129, 131, 132, 133, 136, 138, 140, 141, 142, 143, 144, 145, 146, 147, 149, 151, 153, 154, 155, 156, 157, 158, 159, 160, 161, 163, 164, 165, 166, 167, 168, 169, 170, 171, 172, 173, 174, 175, 176, 177, 179, 180, 181, 182, 184, 185, 186, 187, 188, 189, 191, 192, 193, 194, 195, 196, 197, 199, 200, 201, 202, 203, 204, 205, 207, 208, 209, 210, 211, 212, 215, 216, 217, 218, 219, 220, 221, 222, 223, 224, 225, 226, 227, 228, 229, 230, 231, 232, 233, 235, 236, 237, 238, 240, 241, 242, 243, 245, 246, 247]\n",
      "The lowest recorded ADC reading for event 4 occured in channel 169\n"
     ]
    }
   ],
   "source": [
    "# A waveform reader function\n",
    "def Waveform(eventnr,file):\n",
    "    event = file.get_single_event(eventnr)\n",
    "                                \n",
    "    #The variables that check if a channel is the minimum channel\n",
    "    adcmin = 16382\n",
    "    minchannel = 0\n",
    "    \n",
    "    #A list that holds all the channels with significant pulses \n",
    "    channellist = []\n",
    "    \n",
    "    #Create the datapoint arrays\n",
    "    n = 500000  #350000\n",
    "    ts = np.ones((n_channels, n), dtype=np.int16)\n",
    "    ts = ts * 16382 #baseline\n",
    "    t = np.linspace(0, n, n) \n",
    "    \n",
    "    #Loop over all pulses in the event\n",
    "    for p in event.pulses:\n",
    "        ch = p.channel\n",
    "        i = np.zeros(n_channels, dtype = int)\n",
    "        #print(p.channel, \": \", p.left, p.right-p.left)\n",
    "        for adc in p.raw_data:\n",
    "            \n",
    "            #Add the ADC value to the appropriate channel array\n",
    "            ts[ch][p.left + i[ch]] = adc\n",
    "            i[ch] = i[ch] + 1\n",
    "            \n",
    "            #Append all significant main channels to the list\n",
    "            if adc < 15000 and ch not in channellist and ch in channels_in_detector['tpc']:\n",
    "                channellist.append(ch)\n",
    "                \n",
    "            #Check which channel is the minimum channel\n",
    "            if adc < adcmin:\n",
    "                adcmin = adc\n",
    "                minchannel = ch\n",
    "                \n",
    "    #Sort for convenience\n",
    "    channellist.sort()\n",
    "    return t, ts, channellist, minchannel\n",
    "\n",
    "#Select the event number and process the waveform\n",
    "eventnumber = 4\n",
    "Input = Waveform(eventnumber,Rn220)\n",
    "print(Input[2])\n",
    "print('The lowest recorded ADC reading for event %i occured in channel %i' % (eventnumber, Input[3]))"
   ]
  },
  {
   "cell_type": "code",
   "execution_count": 4,
   "metadata": {},
   "outputs": [
    {
     "data": {
      "text/plain": [
       "<matplotlib.legend.Legend at 0x7f323feb1c50>"
      ]
     },
     "execution_count": 4,
     "metadata": {},
     "output_type": "execute_result"
    },
    {
     "data": {
      "image/png": "[encoded data removed]",
      "text/plain": [
       "<matplotlib.figure.Figure at 0x7f323fde17b8>"
      ]
     },
     "metadata": {},
     "output_type": "display_data"
    }
   ],
   "source": [
    "#Select two channels to compare\n",
    "channel1 = 0\n",
    "channel2 = 254\n",
    "\n",
    "#Plot the two channels\n",
    "%matplotlib inline\n",
    "plt.rcParams[\"figure.figsize\"] = (10, 10) # can't be in same cell as import matplotlib \n",
    "figs, ax = plt.subplots(2, 1, sharex='col')\n",
    "ax[0].plot(Input[0], Input[1][channel1], label='Channel' + str(channel1), color = 'blue')\n",
    "ax[1].plot(Input[0], Input[1][channel2], label='Channel' + str(channel2), color='orange')\n",
    "ax[0].set_ylabel(\"ADC\")\n",
    "ax[1].set_ylabel(\"ADC\")\n",
    "ax[1].set_xlabel(\"time [sample]\")\n",
    "ax[0].set_title('Event ' + str(eventnumber))\n",
    "ax[0].legend()\n",
    "ax[1].legend()\n",
    "#ax[0].set_xlim(90000,120000)\n",
    "#ax[1].set_xlim(90000,120000)\n"
   ]
  },
  {
   "cell_type": "code",
   "execution_count": 7,
   "metadata": {},
   "outputs": [],
   "source": [
    "# storing waveforms (for all PMTs in channellist)\n",
    "for i in range(len(Input[2])):\n",
    "    channel1 = Input[2][i]\n",
    "    if channel1 < 127: #top\n",
    "        color = 'blue'\n",
    "    if channel1 >126: #bottom\n",
    "        color = 'orange'\n",
    "        \n",
    "    %matplotlib inline\n",
    "    plt.rcParams[\"figure.figsize\"] = (10, 10)\n",
    "    figs, ax = plt.subplots()\n",
    "    ax.plot(Input[0], Input[1][channel1], label='Channel' + str(channel1), color = color)\n",
    "    ax.set_ylabel(\"ADC\")\n",
    "    ax.set_xlabel(\"time [sample]\")\n",
    "    ax.set_title('Event ' + str(eventnumber))\n",
    "    ax.legend()\n",
    "    fname = 'Rn' +str(eventnumber) + '_'+ str(channel1) + '.png' #change 'Rn' and 'NG' accordingly\n",
    "    figs.savefig(fname, dpi = (200))"
   ]
  },
  {
   "cell_type": "markdown",
   "metadata": {},
   "source": [
    "### Summed Waveforms"
   ]
  },
  {
   "cell_type": "markdown",
   "metadata": {},
   "source": [
    "Summed waveform for one event:"
   ]
  },
  {
   "cell_type": "code",
   "execution_count": 10,
   "metadata": {},
   "outputs": [],
   "source": [
    "eventnumber = 2\n",
    "Input = Waveform(eventnumber,NG) #NG or Rn220\n",
    "baseline = 16382\n",
    "summed_pmt = baseline #baseline as starting point \n",
    "# number of PMT's that we loop over (0-126: top, 127-248: bottom)\n",
    "m = 126\n",
    "\n",
    "# looping over PMT's\n",
    "for k in range(m+1):\n",
    "    data_pmt = Input[1][k]\n",
    "    summed_pmt -= (baseline - data_pmt)    "
   ]
  },
  {
   "cell_type": "code",
   "execution_count": 11,
   "metadata": {},
   "outputs": [
    {
     "data": {
      "text/plain": [
       "Text(0.5,1,'Event 2 -summed PMTs')"
      ]
     },
     "execution_count": 11,
     "metadata": {},
     "output_type": "execute_result"
    },
    {
     "data": {
      "image/png": "[encoded data removed]",
      "text/plain": [
       "<matplotlib.figure.Figure at 0x7f1ffe15b358>"
      ]
     },
     "metadata": {},
     "output_type": "display_data"
    }
   ],
   "source": [
    "%matplotlib inline\n",
    "figs, ax = plt.subplots()\n",
    "figs.set_size_inches(5,5)\n",
    "ax.plot(Input[0], summed_pmt, label='summed PMTs')\n",
    "ax.set_ylabel(\"ADC\")\n",
    "ax.set_xlabel(\"time [sample]\")\n",
    "ax.set_title('Event ' + str(eventnumber) + ' -summed PMTs')\n",
    "#ax.set_xlim(90000,120000)\n",
    "#fname = 'summedPMTs'+ 'NG' + str(eventnumber) + '.png' #change 'Rn' to 'NG' accordingly\n",
    "#figs.savefig(fname, dpi = (200))"
   ]
  },
  {
   "cell_type": "markdown",
   "metadata": {},
   "source": [
    "looping over events, storing the summed waveform for each of them: "
   ]
  },
  {
   "cell_type": "code",
   "execution_count": null,
   "metadata": {},
   "outputs": [],
   "source": [
    "baseline = 16382\n",
    "m = 126\n",
    "\n",
    "# looping over eventnumber\n",
    "for i in range(20):\n",
    "    summed_pmt = baseline\n",
    "    eventnumber = i+1 #starting from 1\n",
    "    Input = Waveform(eventnumber,NG)\n",
    "    # looping over PMTs\n",
    "    for k in range(m+1):\n",
    "        data_pmt = Input[1][k]\n",
    "        summed_pmt -= (baseline - data_pmt)\n",
    "        \n",
    "    %matplotlib inline\n",
    "    figs, ax = plt.subplots()\n",
    "    figs.set_size_inches(10,10)\n",
    "    ax.plot(Input[0], summed_pmt, label='summed PMTs')\n",
    "    ax.set_title('Event ' + str(eventnumber) + ' -summed PMTs')\n",
    "    ax.set_ylabel(\"ADC\")\n",
    "    ax.set_xlabel(\"time [sample]\")\n",
    "    # ax.set_xlim(90000,120000) \n",
    "    fname = 'summedPMTs'+ 'NG' + str(eventnumber) + '.png' #change 'NG', 'Rn' accordingly\n",
    "    figs.savefig(fname, dpi = (200))     "
   ]
  },
  {
   "cell_type": "code",
   "execution_count": null,
   "metadata": {},
   "outputs": [],
   "source": []
  },
  {
   "cell_type": "code",
   "execution_count": null,
   "metadata": {},
   "outputs": [],
   "source": []
  }
 ],
 "metadata": {
  "kernelspec": {
   "display_name": "Python 3",
   "language": "python",
   "name": "python3"
  },
  "language_info": {
   "codemirror_mode": {
    "name": "ipython",
    "version": 3
   },
   "file_extension": ".py",
   "mimetype": "text/x-python",
   "name": "python",
   "nbconvert_exporter": "python",
   "pygments_lexer": "ipython3",
   "version": "3.6.9"
  }
 },
 "nbformat": 4,
 "nbformat_minor": 2
}
