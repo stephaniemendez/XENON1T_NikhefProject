{
 "cells": [
  {
   "cell_type": "code",
   "execution_count": 1,
   "metadata": {},
   "outputs": [],
   "source": [
    "import Zip\n",
    "import numpy as np\n",
    "import matplotlib\n",
    "import matplotlib.pyplot as plt\n",
    "import time\n",
    "\n",
    "channels_in_detector = { 'tpc': list(range(0, 247+1)), 'veto': list(range(248, 253+1)), 'sum_wv': [254], 'busy_on': [255], 'busy_off': [256], 'hev_on': [257], 'hev_off': [258], 'muon_veto_trigger': [259], } \n",
    "n_channels = 260"
   ]
  },
  {
   "cell_type": "code",
   "execution_count": 2,
   "metadata": {},
   "outputs": [],
   "source": [
    "NG = Zip.ReadZipped(\"/data/nikhefproject/data/xenon1t/NG\") # Neutron data\n",
    "Rn220 = Zip.ReadZipped(\"/data/nikhefproject/data/xenon1t/Rn220\") # Rn-220 data"
   ]
  },
  {
   "cell_type": "code",
   "execution_count": 12,
   "metadata": {},
   "outputs": [
    {
     "data": {
      "image/png": "[encoded data removed]",
      "text/plain": [
       "<matplotlib.figure.Figure at 0x7f89706361d0>"
      ]
     },
     "metadata": {},
     "output_type": "display_data"
    }
   ],
   "source": [
    "def Waveform(eventnr, channel):\n",
    "    event = NG.get_single_event(eventnr)\n",
    "    n = 350000 # ample size for full waveform \n",
    "    ts = np.ones(n, dtype=np.int16)\n",
    "    ts = ts * 16382 # more or less baseline for this ADC\n",
    "    t = np.linspace(0, n, n) # 2ns sampling ADC\n",
    "    for p in event.pulses:\n",
    "        ch = p.channel\n",
    "        if ch == channel:\n",
    "            i = 0\n",
    "            #print(p.channel, \": \", p.left, p.right-p.left)\n",
    "            for adc in p.raw_data:\n",
    "                ts[p.left + i] = adc\n",
    "                i = i + 1\n",
    "    figs, ax = plt.subplots()\n",
    "    figs.set_size_inches(10,10)\n",
    "    ax.plot(t, ts, label='Channel ' + str(channel))\n",
    "    ax.set_xlabel(\"time [sample]\")\n",
    "    ax.set_ylabel(\"ADC\")\n",
    "    ax.set_title('Event ' + str(event.event_number))\n",
    "    ax.legend()\n",
    "    #ax.set_xlim(90000,120000)\n",
    "    fname = str(event.event_number) + '.png'\n",
    "    #figs.savefig(fname, dpi = (200)) # Save the WF into the current directory\n",
    "    \n",
    "Waveform(0, 254)"
   ]
  },
  {
   "cell_type": "code",
   "execution_count": null,
   "metadata": {},
   "outputs": [],
   "source": []
  }
 ],
 "metadata": {
  "kernelspec": {
   "display_name": "Python 3",
   "language": "python",
   "name": "python3"
  },
  "language_info": {
   "codemirror_mode": {
    "name": "ipython",
    "version": 3
   },
   "file_extension": ".py",
   "mimetype": "text/x-python",
   "name": "python",
   "nbconvert_exporter": "python",
   "pygments_lexer": "ipython3",
   "version": "3.6.9"
  }
 },
 "nbformat": 4,
 "nbformat_minor": 2
}
